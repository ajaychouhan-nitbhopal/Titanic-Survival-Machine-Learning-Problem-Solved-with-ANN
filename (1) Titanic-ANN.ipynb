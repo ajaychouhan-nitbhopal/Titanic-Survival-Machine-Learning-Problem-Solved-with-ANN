{
 "cells": [
  {
   "cell_type": "markdown",
   "metadata": {},
   "source": [
    "## Importing Libraries"
   ]
  },
  {
   "cell_type": "code",
   "execution_count": 1,
   "metadata": {},
   "outputs": [],
   "source": [
    "import numpy as np\n",
    "import pandas as pd\n",
    "import matplotlib.pyplot as plt"
   ]
  },
  {
   "cell_type": "markdown",
   "metadata": {},
   "source": [
    "## Importing raw train and test set"
   ]
  },
  {
   "cell_type": "code",
   "execution_count": 2,
   "metadata": {},
   "outputs": [
    {
     "data": {
      "text/plain": [
       "0       892\n",
       "1       893\n",
       "2       894\n",
       "3       895\n",
       "4       896\n",
       "       ... \n",
       "413    1305\n",
       "414    1306\n",
       "415    1307\n",
       "416    1308\n",
       "417    1309\n",
       "Name: PassengerId, Length: 418, dtype: int64"
      ]
     },
     "execution_count": 2,
     "metadata": {},
     "output_type": "execute_result"
    }
   ],
   "source": [
    "train = pd.read_csv('train.csv')\n",
    "test = pd.read_csv('test.csv') \n",
    "final = test['PassengerId']\n",
    "final"
   ]
  },
  {
   "cell_type": "markdown",
   "metadata": {},
   "source": [
    "## Preprocessing"
   ]
  },
  {
   "cell_type": "code",
   "execution_count": 3,
   "metadata": {},
   "outputs": [
    {
     "data": {
      "text/plain": [
       "PassengerId      0\n",
       "Survived         0\n",
       "Pclass           0\n",
       "Name             0\n",
       "Sex              0\n",
       "Age            177\n",
       "SibSp            0\n",
       "Parch            0\n",
       "Ticket           0\n",
       "Fare             0\n",
       "Cabin          687\n",
       "Embarked         2\n",
       "dtype: int64"
      ]
     },
     "execution_count": 3,
     "metadata": {},
     "output_type": "execute_result"
    }
   ],
   "source": [
    "# Checking missing values in train set\n",
    "train.isnull().sum()"
   ]
  },
  {
   "cell_type": "code",
   "execution_count": 4,
   "metadata": {},
   "outputs": [
    {
     "data": {
      "text/plain": [
       "(891, 12)"
      ]
     },
     "execution_count": 4,
     "metadata": {},
     "output_type": "execute_result"
    }
   ],
   "source": [
    "train.shape"
   ]
  },
  {
   "cell_type": "code",
   "execution_count": 5,
   "metadata": {},
   "outputs": [
    {
     "data": {
      "text/plain": [
       "PassengerId      0\n",
       "Pclass           0\n",
       "Name             0\n",
       "Sex              0\n",
       "Age             86\n",
       "SibSp            0\n",
       "Parch            0\n",
       "Ticket           0\n",
       "Fare             1\n",
       "Cabin          327\n",
       "Embarked         0\n",
       "dtype: int64"
      ]
     },
     "execution_count": 5,
     "metadata": {},
     "output_type": "execute_result"
    }
   ],
   "source": [
    "# Checking missing values in test set\n",
    "test.isnull().sum()"
   ]
  },
  {
   "cell_type": "code",
   "execution_count": 6,
   "metadata": {},
   "outputs": [
    {
     "data": {
      "text/plain": [
       "(418, 11)"
      ]
     },
     "execution_count": 6,
     "metadata": {},
     "output_type": "execute_result"
    }
   ],
   "source": [
    "test.shape"
   ]
  },
  {
   "cell_type": "code",
   "execution_count": 7,
   "metadata": {},
   "outputs": [
    {
     "data": {
      "text/html": [
       "<div>\n",
       "<style scoped>\n",
       "    .dataframe tbody tr th:only-of-type {\n",
       "        vertical-align: middle;\n",
       "    }\n",
       "\n",
       "    .dataframe tbody tr th {\n",
       "        vertical-align: top;\n",
       "    }\n",
       "\n",
       "    .dataframe thead th {\n",
       "        text-align: right;\n",
       "    }\n",
       "</style>\n",
       "<table border=\"1\" class=\"dataframe\">\n",
       "  <thead>\n",
       "    <tr style=\"text-align: right;\">\n",
       "      <th></th>\n",
       "      <th>PassengerId</th>\n",
       "      <th>Survived</th>\n",
       "      <th>Pclass</th>\n",
       "      <th>Name</th>\n",
       "      <th>Sex</th>\n",
       "      <th>Age</th>\n",
       "      <th>SibSp</th>\n",
       "      <th>Parch</th>\n",
       "      <th>Ticket</th>\n",
       "      <th>Fare</th>\n",
       "      <th>Cabin</th>\n",
       "      <th>Embarked</th>\n",
       "    </tr>\n",
       "  </thead>\n",
       "  <tbody>\n",
       "    <tr>\n",
       "      <th>0</th>\n",
       "      <td>1</td>\n",
       "      <td>0</td>\n",
       "      <td>3</td>\n",
       "      <td>Braund, Mr. Owen Harris</td>\n",
       "      <td>male</td>\n",
       "      <td>22.0</td>\n",
       "      <td>1</td>\n",
       "      <td>0</td>\n",
       "      <td>A/5 21171</td>\n",
       "      <td>7.2500</td>\n",
       "      <td>NaN</td>\n",
       "      <td>S</td>\n",
       "    </tr>\n",
       "    <tr>\n",
       "      <th>1</th>\n",
       "      <td>2</td>\n",
       "      <td>1</td>\n",
       "      <td>1</td>\n",
       "      <td>Cumings, Mrs. John Bradley (Florence Briggs Th...</td>\n",
       "      <td>female</td>\n",
       "      <td>38.0</td>\n",
       "      <td>1</td>\n",
       "      <td>0</td>\n",
       "      <td>PC 17599</td>\n",
       "      <td>71.2833</td>\n",
       "      <td>C85</td>\n",
       "      <td>C</td>\n",
       "    </tr>\n",
       "    <tr>\n",
       "      <th>2</th>\n",
       "      <td>3</td>\n",
       "      <td>1</td>\n",
       "      <td>3</td>\n",
       "      <td>Heikkinen, Miss. Laina</td>\n",
       "      <td>female</td>\n",
       "      <td>26.0</td>\n",
       "      <td>0</td>\n",
       "      <td>0</td>\n",
       "      <td>STON/O2. 3101282</td>\n",
       "      <td>7.9250</td>\n",
       "      <td>NaN</td>\n",
       "      <td>S</td>\n",
       "    </tr>\n",
       "    <tr>\n",
       "      <th>3</th>\n",
       "      <td>4</td>\n",
       "      <td>1</td>\n",
       "      <td>1</td>\n",
       "      <td>Futrelle, Mrs. Jacques Heath (Lily May Peel)</td>\n",
       "      <td>female</td>\n",
       "      <td>35.0</td>\n",
       "      <td>1</td>\n",
       "      <td>0</td>\n",
       "      <td>113803</td>\n",
       "      <td>53.1000</td>\n",
       "      <td>C123</td>\n",
       "      <td>S</td>\n",
       "    </tr>\n",
       "    <tr>\n",
       "      <th>4</th>\n",
       "      <td>5</td>\n",
       "      <td>0</td>\n",
       "      <td>3</td>\n",
       "      <td>Allen, Mr. William Henry</td>\n",
       "      <td>male</td>\n",
       "      <td>35.0</td>\n",
       "      <td>0</td>\n",
       "      <td>0</td>\n",
       "      <td>373450</td>\n",
       "      <td>8.0500</td>\n",
       "      <td>NaN</td>\n",
       "      <td>S</td>\n",
       "    </tr>\n",
       "  </tbody>\n",
       "</table>\n",
       "</div>"
      ],
      "text/plain": [
       "   PassengerId  Survived  Pclass  \\\n",
       "0            1         0       3   \n",
       "1            2         1       1   \n",
       "2            3         1       3   \n",
       "3            4         1       1   \n",
       "4            5         0       3   \n",
       "\n",
       "                                                Name     Sex   Age  SibSp  \\\n",
       "0                            Braund, Mr. Owen Harris    male  22.0      1   \n",
       "1  Cumings, Mrs. John Bradley (Florence Briggs Th...  female  38.0      1   \n",
       "2                             Heikkinen, Miss. Laina  female  26.0      0   \n",
       "3       Futrelle, Mrs. Jacques Heath (Lily May Peel)  female  35.0      1   \n",
       "4                           Allen, Mr. William Henry    male  35.0      0   \n",
       "\n",
       "   Parch            Ticket     Fare Cabin Embarked  \n",
       "0      0         A/5 21171   7.2500   NaN        S  \n",
       "1      0          PC 17599  71.2833   C85        C  \n",
       "2      0  STON/O2. 3101282   7.9250   NaN        S  \n",
       "3      0            113803  53.1000  C123        S  \n",
       "4      0            373450   8.0500   NaN        S  "
      ]
     },
     "execution_count": 7,
     "metadata": {},
     "output_type": "execute_result"
    }
   ],
   "source": [
    "# Replacing \"\" to NaN in train\n",
    "train.replace('', np.nan, inplace = True)\n",
    "train.head(5)"
   ]
  },
  {
   "cell_type": "code",
   "execution_count": 8,
   "metadata": {},
   "outputs": [
    {
     "data": {
      "text/html": [
       "<div>\n",
       "<style scoped>\n",
       "    .dataframe tbody tr th:only-of-type {\n",
       "        vertical-align: middle;\n",
       "    }\n",
       "\n",
       "    .dataframe tbody tr th {\n",
       "        vertical-align: top;\n",
       "    }\n",
       "\n",
       "    .dataframe thead th {\n",
       "        text-align: right;\n",
       "    }\n",
       "</style>\n",
       "<table border=\"1\" class=\"dataframe\">\n",
       "  <thead>\n",
       "    <tr style=\"text-align: right;\">\n",
       "      <th></th>\n",
       "      <th>PassengerId</th>\n",
       "      <th>Pclass</th>\n",
       "      <th>Name</th>\n",
       "      <th>Sex</th>\n",
       "      <th>Age</th>\n",
       "      <th>SibSp</th>\n",
       "      <th>Parch</th>\n",
       "      <th>Ticket</th>\n",
       "      <th>Fare</th>\n",
       "      <th>Cabin</th>\n",
       "      <th>Embarked</th>\n",
       "    </tr>\n",
       "  </thead>\n",
       "  <tbody>\n",
       "    <tr>\n",
       "      <th>0</th>\n",
       "      <td>892</td>\n",
       "      <td>3</td>\n",
       "      <td>Kelly, Mr. James</td>\n",
       "      <td>male</td>\n",
       "      <td>34.5</td>\n",
       "      <td>0</td>\n",
       "      <td>0</td>\n",
       "      <td>330911</td>\n",
       "      <td>7.8292</td>\n",
       "      <td>NaN</td>\n",
       "      <td>Q</td>\n",
       "    </tr>\n",
       "    <tr>\n",
       "      <th>1</th>\n",
       "      <td>893</td>\n",
       "      <td>3</td>\n",
       "      <td>Wilkes, Mrs. James (Ellen Needs)</td>\n",
       "      <td>female</td>\n",
       "      <td>47.0</td>\n",
       "      <td>1</td>\n",
       "      <td>0</td>\n",
       "      <td>363272</td>\n",
       "      <td>7.0000</td>\n",
       "      <td>NaN</td>\n",
       "      <td>S</td>\n",
       "    </tr>\n",
       "    <tr>\n",
       "      <th>2</th>\n",
       "      <td>894</td>\n",
       "      <td>2</td>\n",
       "      <td>Myles, Mr. Thomas Francis</td>\n",
       "      <td>male</td>\n",
       "      <td>62.0</td>\n",
       "      <td>0</td>\n",
       "      <td>0</td>\n",
       "      <td>240276</td>\n",
       "      <td>9.6875</td>\n",
       "      <td>NaN</td>\n",
       "      <td>Q</td>\n",
       "    </tr>\n",
       "    <tr>\n",
       "      <th>3</th>\n",
       "      <td>895</td>\n",
       "      <td>3</td>\n",
       "      <td>Wirz, Mr. Albert</td>\n",
       "      <td>male</td>\n",
       "      <td>27.0</td>\n",
       "      <td>0</td>\n",
       "      <td>0</td>\n",
       "      <td>315154</td>\n",
       "      <td>8.6625</td>\n",
       "      <td>NaN</td>\n",
       "      <td>S</td>\n",
       "    </tr>\n",
       "    <tr>\n",
       "      <th>4</th>\n",
       "      <td>896</td>\n",
       "      <td>3</td>\n",
       "      <td>Hirvonen, Mrs. Alexander (Helga E Lindqvist)</td>\n",
       "      <td>female</td>\n",
       "      <td>22.0</td>\n",
       "      <td>1</td>\n",
       "      <td>1</td>\n",
       "      <td>3101298</td>\n",
       "      <td>12.2875</td>\n",
       "      <td>NaN</td>\n",
       "      <td>S</td>\n",
       "    </tr>\n",
       "  </tbody>\n",
       "</table>\n",
       "</div>"
      ],
      "text/plain": [
       "   PassengerId  Pclass                                          Name     Sex  \\\n",
       "0          892       3                              Kelly, Mr. James    male   \n",
       "1          893       3              Wilkes, Mrs. James (Ellen Needs)  female   \n",
       "2          894       2                     Myles, Mr. Thomas Francis    male   \n",
       "3          895       3                              Wirz, Mr. Albert    male   \n",
       "4          896       3  Hirvonen, Mrs. Alexander (Helga E Lindqvist)  female   \n",
       "\n",
       "    Age  SibSp  Parch   Ticket     Fare Cabin Embarked  \n",
       "0  34.5      0      0   330911   7.8292   NaN        Q  \n",
       "1  47.0      1      0   363272   7.0000   NaN        S  \n",
       "2  62.0      0      0   240276   9.6875   NaN        Q  \n",
       "3  27.0      0      0   315154   8.6625   NaN        S  \n",
       "4  22.0      1      1  3101298  12.2875   NaN        S  "
      ]
     },
     "execution_count": 8,
     "metadata": {},
     "output_type": "execute_result"
    }
   ],
   "source": [
    "# Replacing \"\" to NaN in test\n",
    "test.replace('', np.nan, inplace = True)\n",
    "test.head(5)"
   ]
  },
  {
   "cell_type": "code",
   "execution_count": 9,
   "metadata": {},
   "outputs": [
    {
     "data": {
      "text/plain": [
       "PassengerId      0\n",
       "Survived         0\n",
       "Pclass           0\n",
       "Name             0\n",
       "Sex              0\n",
       "Age            177\n",
       "SibSp            0\n",
       "Parch            0\n",
       "Ticket           0\n",
       "Fare             0\n",
       "Cabin          687\n",
       "Embarked         2\n",
       "dtype: int64"
      ]
     },
     "execution_count": 9,
     "metadata": {},
     "output_type": "execute_result"
    }
   ],
   "source": [
    "# Checking missing values in train set\n",
    "train.isnull().sum()"
   ]
  },
  {
   "cell_type": "code",
   "execution_count": 10,
   "metadata": {},
   "outputs": [
    {
     "data": {
      "text/plain": [
       "S    644\n",
       "C    168\n",
       "Q     77\n",
       "Name: Embarked, dtype: int64"
      ]
     },
     "execution_count": 10,
     "metadata": {},
     "output_type": "execute_result"
    }
   ],
   "source": [
    "# To see how many values are present in each label of Embarked column\n",
    "train['Embarked'].value_counts()"
   ]
  },
  {
   "cell_type": "code",
   "execution_count": 11,
   "metadata": {},
   "outputs": [],
   "source": [
    "# It is shwon that S is mode so we will replace all NaN values of column Embarked with 'S'\n",
    "# replacing the missing 'Embarked' values by the most frequent 'S'\n",
    "train[\"Embarked\"].replace(np.nan, \"S\", inplace=True)\n",
    "test[\"Embarked\"].replace(np.nan, \"S\", inplace=True)"
   ]
  },
  {
   "cell_type": "code",
   "execution_count": 12,
   "metadata": {},
   "outputs": [
    {
     "name": "stdout",
     "output_type": "stream",
     "text": [
      "Average Age in train set: 29.69911764705882\n"
     ]
    }
   ],
   "source": [
    "# Finding average age of all passengers train set\n",
    "avg_age_train = train['Age'].astype('float').mean(axis=0)\n",
    "print(\"Average Age in train set:\", avg_age_train)"
   ]
  },
  {
   "cell_type": "code",
   "execution_count": 13,
   "metadata": {},
   "outputs": [
    {
     "name": "stdout",
     "output_type": "stream",
     "text": [
      "Average Age in test set: 30.272590361445783\n"
     ]
    }
   ],
   "source": [
    "# Finding average age of all passengers in test set\n",
    "avg_age_test = test['Age'].astype('float').mean(axis=0)\n",
    "print(\"Average Age in test set:\", avg_age_test)"
   ]
  },
  {
   "cell_type": "code",
   "execution_count": 14,
   "metadata": {},
   "outputs": [],
   "source": [
    "# Replacing NaN values of Age column by the average age\n",
    "train['Age'].replace(np.nan, avg_age_train, inplace=True)\n",
    "test['Age'].replace(np.nan, avg_age_test, inplace=True)"
   ]
  },
  {
   "cell_type": "code",
   "execution_count": 15,
   "metadata": {},
   "outputs": [
    {
     "data": {
      "text/html": [
       "<div>\n",
       "<style scoped>\n",
       "    .dataframe tbody tr th:only-of-type {\n",
       "        vertical-align: middle;\n",
       "    }\n",
       "\n",
       "    .dataframe tbody tr th {\n",
       "        vertical-align: top;\n",
       "    }\n",
       "\n",
       "    .dataframe thead th {\n",
       "        text-align: right;\n",
       "    }\n",
       "</style>\n",
       "<table border=\"1\" class=\"dataframe\">\n",
       "  <thead>\n",
       "    <tr style=\"text-align: right;\">\n",
       "      <th></th>\n",
       "      <th>Survived</th>\n",
       "      <th>Pclass</th>\n",
       "      <th>Sex</th>\n",
       "      <th>Age</th>\n",
       "      <th>SibSp</th>\n",
       "      <th>Parch</th>\n",
       "      <th>Fare</th>\n",
       "      <th>Embarked</th>\n",
       "    </tr>\n",
       "  </thead>\n",
       "  <tbody>\n",
       "    <tr>\n",
       "      <th>0</th>\n",
       "      <td>0</td>\n",
       "      <td>3</td>\n",
       "      <td>male</td>\n",
       "      <td>22.0</td>\n",
       "      <td>1</td>\n",
       "      <td>0</td>\n",
       "      <td>7.2500</td>\n",
       "      <td>S</td>\n",
       "    </tr>\n",
       "    <tr>\n",
       "      <th>1</th>\n",
       "      <td>1</td>\n",
       "      <td>1</td>\n",
       "      <td>female</td>\n",
       "      <td>38.0</td>\n",
       "      <td>1</td>\n",
       "      <td>0</td>\n",
       "      <td>71.2833</td>\n",
       "      <td>C</td>\n",
       "    </tr>\n",
       "    <tr>\n",
       "      <th>2</th>\n",
       "      <td>1</td>\n",
       "      <td>3</td>\n",
       "      <td>female</td>\n",
       "      <td>26.0</td>\n",
       "      <td>0</td>\n",
       "      <td>0</td>\n",
       "      <td>7.9250</td>\n",
       "      <td>S</td>\n",
       "    </tr>\n",
       "    <tr>\n",
       "      <th>3</th>\n",
       "      <td>1</td>\n",
       "      <td>1</td>\n",
       "      <td>female</td>\n",
       "      <td>35.0</td>\n",
       "      <td>1</td>\n",
       "      <td>0</td>\n",
       "      <td>53.1000</td>\n",
       "      <td>S</td>\n",
       "    </tr>\n",
       "    <tr>\n",
       "      <th>4</th>\n",
       "      <td>0</td>\n",
       "      <td>3</td>\n",
       "      <td>male</td>\n",
       "      <td>35.0</td>\n",
       "      <td>0</td>\n",
       "      <td>0</td>\n",
       "      <td>8.0500</td>\n",
       "      <td>S</td>\n",
       "    </tr>\n",
       "  </tbody>\n",
       "</table>\n",
       "</div>"
      ],
      "text/plain": [
       "   Survived  Pclass     Sex   Age  SibSp  Parch     Fare Embarked\n",
       "0         0       3    male  22.0      1      0   7.2500        S\n",
       "1         1       1  female  38.0      1      0  71.2833        C\n",
       "2         1       3  female  26.0      0      0   7.9250        S\n",
       "3         1       1  female  35.0      1      0  53.1000        S\n",
       "4         0       3    male  35.0      0      0   8.0500        S"
      ]
     },
     "execution_count": 15,
     "metadata": {},
     "output_type": "execute_result"
    }
   ],
   "source": [
    "# Dropping cabin columns in train and test\n",
    "\n",
    "train.drop(['Cabin','Name','Ticket','PassengerId'], axis=1, inplace = True)\n",
    "test.drop(['Cabin','Name','Ticket','PassengerId'], axis=1, inplace = True)\n",
    "\n",
    "train.head()"
   ]
  },
  {
   "cell_type": "code",
   "execution_count": 16,
   "metadata": {},
   "outputs": [
    {
     "name": "stdout",
     "output_type": "stream",
     "text": [
      "Average Fare in test set: 35.627188489208635\n"
     ]
    }
   ],
   "source": [
    "# Replacing rows of fare column in test set where values are NaN with average\n",
    "# finding average age of all passengers in test set\n",
    "avg_fare_test = test['Fare'].astype('float').mean(axis=0)\n",
    "print(\"Average Fare in test set:\", avg_fare_test)"
   ]
  },
  {
   "cell_type": "code",
   "execution_count": 17,
   "metadata": {},
   "outputs": [],
   "source": [
    "# Replacing NaN values of Fare column by the average Fare\n",
    "test['Fare'].replace(np.nan, avg_fare_test, inplace=True)"
   ]
  },
  {
   "cell_type": "code",
   "execution_count": 18,
   "metadata": {},
   "outputs": [
    {
     "data": {
      "text/html": [
       "<div>\n",
       "<style scoped>\n",
       "    .dataframe tbody tr th:only-of-type {\n",
       "        vertical-align: middle;\n",
       "    }\n",
       "\n",
       "    .dataframe tbody tr th {\n",
       "        vertical-align: top;\n",
       "    }\n",
       "\n",
       "    .dataframe thead th {\n",
       "        text-align: right;\n",
       "    }\n",
       "</style>\n",
       "<table border=\"1\" class=\"dataframe\">\n",
       "  <thead>\n",
       "    <tr style=\"text-align: right;\">\n",
       "      <th></th>\n",
       "      <th>Pclass</th>\n",
       "      <th>Sex</th>\n",
       "      <th>Age</th>\n",
       "      <th>SibSp</th>\n",
       "      <th>Parch</th>\n",
       "      <th>Fare</th>\n",
       "      <th>Embarked</th>\n",
       "    </tr>\n",
       "  </thead>\n",
       "  <tbody>\n",
       "    <tr>\n",
       "      <th>0</th>\n",
       "      <td>3</td>\n",
       "      <td>male</td>\n",
       "      <td>34.5</td>\n",
       "      <td>0</td>\n",
       "      <td>0</td>\n",
       "      <td>7.8292</td>\n",
       "      <td>Q</td>\n",
       "    </tr>\n",
       "    <tr>\n",
       "      <th>1</th>\n",
       "      <td>3</td>\n",
       "      <td>female</td>\n",
       "      <td>47.0</td>\n",
       "      <td>1</td>\n",
       "      <td>0</td>\n",
       "      <td>7.0000</td>\n",
       "      <td>S</td>\n",
       "    </tr>\n",
       "    <tr>\n",
       "      <th>2</th>\n",
       "      <td>2</td>\n",
       "      <td>male</td>\n",
       "      <td>62.0</td>\n",
       "      <td>0</td>\n",
       "      <td>0</td>\n",
       "      <td>9.6875</td>\n",
       "      <td>Q</td>\n",
       "    </tr>\n",
       "    <tr>\n",
       "      <th>3</th>\n",
       "      <td>3</td>\n",
       "      <td>male</td>\n",
       "      <td>27.0</td>\n",
       "      <td>0</td>\n",
       "      <td>0</td>\n",
       "      <td>8.6625</td>\n",
       "      <td>S</td>\n",
       "    </tr>\n",
       "    <tr>\n",
       "      <th>4</th>\n",
       "      <td>3</td>\n",
       "      <td>female</td>\n",
       "      <td>22.0</td>\n",
       "      <td>1</td>\n",
       "      <td>1</td>\n",
       "      <td>12.2875</td>\n",
       "      <td>S</td>\n",
       "    </tr>\n",
       "  </tbody>\n",
       "</table>\n",
       "</div>"
      ],
      "text/plain": [
       "   Pclass     Sex   Age  SibSp  Parch     Fare Embarked\n",
       "0       3    male  34.5      0      0   7.8292        Q\n",
       "1       3  female  47.0      1      0   7.0000        S\n",
       "2       2    male  62.0      0      0   9.6875        Q\n",
       "3       3    male  27.0      0      0   8.6625        S\n",
       "4       3  female  22.0      1      1  12.2875        S"
      ]
     },
     "execution_count": 18,
     "metadata": {},
     "output_type": "execute_result"
    }
   ],
   "source": [
    "test.head()"
   ]
  },
  {
   "cell_type": "code",
   "execution_count": 19,
   "metadata": {},
   "outputs": [
    {
     "data": {
      "text/plain": [
       "Survived      int64\n",
       "Pclass        int64\n",
       "Sex          object\n",
       "Age         float64\n",
       "SibSp         int64\n",
       "Parch         int64\n",
       "Fare        float64\n",
       "Embarked     object\n",
       "dtype: object"
      ]
     },
     "execution_count": 19,
     "metadata": {},
     "output_type": "execute_result"
    }
   ],
   "source": [
    "# Checking datatypes of all values in columns of train set\n",
    "train.dtypes"
   ]
  },
  {
   "cell_type": "markdown",
   "metadata": {},
   "source": [
    "## Replacing categorical values of Sex column by dummy variables"
   ]
  },
  {
   "cell_type": "code",
   "execution_count": 20,
   "metadata": {},
   "outputs": [],
   "source": [
    "dummy_variable_1_train = pd.get_dummies(train[\"Sex\"])\n",
    "dummy_variable_1_test = pd.get_dummies(test[\"Sex\"])"
   ]
  },
  {
   "cell_type": "code",
   "execution_count": 21,
   "metadata": {},
   "outputs": [],
   "source": [
    "# merge data frame \"df\" and \"dummy_variable_1\" \n",
    "train = pd.concat([train, dummy_variable_1_train], axis=1)\n",
    "test = pd.concat([test, dummy_variable_1_test], axis=1)\n",
    "# drop original column \"Sex\" from \"train and test\"\n",
    "train.drop(\"Sex\", axis = 1, inplace=True)\n",
    "test.drop(\"Sex\", axis = 1, inplace=True)"
   ]
  },
  {
   "cell_type": "markdown",
   "metadata": {},
   "source": [
    "## Replacing categorical values of Embarked column by dummy variables"
   ]
  },
  {
   "cell_type": "code",
   "execution_count": 22,
   "metadata": {},
   "outputs": [],
   "source": [
    "dummy_variable_2_train = pd.get_dummies(train[\"Embarked\"])\n",
    "dummy_variable_2_test = pd.get_dummies(test[\"Embarked\"])"
   ]
  },
  {
   "cell_type": "code",
   "execution_count": 23,
   "metadata": {},
   "outputs": [],
   "source": [
    "# merge data frame \"df\" and \"dummy_variable_1\" \n",
    "train = pd.concat([train, dummy_variable_2_train], axis=1)\n",
    "test = pd.concat([test, dummy_variable_2_test], axis=1)\n",
    "# drop original column \"fuel-type\" from \"df\"\n",
    "train.drop(\"Embarked\", axis = 1, inplace=True)\n",
    "test.drop(\"Embarked\", axis = 1, inplace=True)"
   ]
  },
  {
   "cell_type": "code",
   "execution_count": 24,
   "metadata": {},
   "outputs": [
    {
     "data": {
      "text/html": [
       "<div>\n",
       "<style scoped>\n",
       "    .dataframe tbody tr th:only-of-type {\n",
       "        vertical-align: middle;\n",
       "    }\n",
       "\n",
       "    .dataframe tbody tr th {\n",
       "        vertical-align: top;\n",
       "    }\n",
       "\n",
       "    .dataframe thead th {\n",
       "        text-align: right;\n",
       "    }\n",
       "</style>\n",
       "<table border=\"1\" class=\"dataframe\">\n",
       "  <thead>\n",
       "    <tr style=\"text-align: right;\">\n",
       "      <th></th>\n",
       "      <th>Survived</th>\n",
       "      <th>Pclass</th>\n",
       "      <th>Age</th>\n",
       "      <th>SibSp</th>\n",
       "      <th>Parch</th>\n",
       "      <th>Fare</th>\n",
       "      <th>female</th>\n",
       "      <th>male</th>\n",
       "      <th>C</th>\n",
       "      <th>Q</th>\n",
       "      <th>S</th>\n",
       "    </tr>\n",
       "  </thead>\n",
       "  <tbody>\n",
       "    <tr>\n",
       "      <th>0</th>\n",
       "      <td>0</td>\n",
       "      <td>3</td>\n",
       "      <td>22.0</td>\n",
       "      <td>1</td>\n",
       "      <td>0</td>\n",
       "      <td>7.2500</td>\n",
       "      <td>0</td>\n",
       "      <td>1</td>\n",
       "      <td>0</td>\n",
       "      <td>0</td>\n",
       "      <td>1</td>\n",
       "    </tr>\n",
       "    <tr>\n",
       "      <th>1</th>\n",
       "      <td>1</td>\n",
       "      <td>1</td>\n",
       "      <td>38.0</td>\n",
       "      <td>1</td>\n",
       "      <td>0</td>\n",
       "      <td>71.2833</td>\n",
       "      <td>1</td>\n",
       "      <td>0</td>\n",
       "      <td>1</td>\n",
       "      <td>0</td>\n",
       "      <td>0</td>\n",
       "    </tr>\n",
       "    <tr>\n",
       "      <th>2</th>\n",
       "      <td>1</td>\n",
       "      <td>3</td>\n",
       "      <td>26.0</td>\n",
       "      <td>0</td>\n",
       "      <td>0</td>\n",
       "      <td>7.9250</td>\n",
       "      <td>1</td>\n",
       "      <td>0</td>\n",
       "      <td>0</td>\n",
       "      <td>0</td>\n",
       "      <td>1</td>\n",
       "    </tr>\n",
       "    <tr>\n",
       "      <th>3</th>\n",
       "      <td>1</td>\n",
       "      <td>1</td>\n",
       "      <td>35.0</td>\n",
       "      <td>1</td>\n",
       "      <td>0</td>\n",
       "      <td>53.1000</td>\n",
       "      <td>1</td>\n",
       "      <td>0</td>\n",
       "      <td>0</td>\n",
       "      <td>0</td>\n",
       "      <td>1</td>\n",
       "    </tr>\n",
       "    <tr>\n",
       "      <th>4</th>\n",
       "      <td>0</td>\n",
       "      <td>3</td>\n",
       "      <td>35.0</td>\n",
       "      <td>0</td>\n",
       "      <td>0</td>\n",
       "      <td>8.0500</td>\n",
       "      <td>0</td>\n",
       "      <td>1</td>\n",
       "      <td>0</td>\n",
       "      <td>0</td>\n",
       "      <td>1</td>\n",
       "    </tr>\n",
       "  </tbody>\n",
       "</table>\n",
       "</div>"
      ],
      "text/plain": [
       "   Survived  Pclass   Age  SibSp  Parch     Fare  female  male  C  Q  S\n",
       "0         0       3  22.0      1      0   7.2500       0     1  0  0  1\n",
       "1         1       1  38.0      1      0  71.2833       1     0  1  0  0\n",
       "2         1       3  26.0      0      0   7.9250       1     0  0  0  1\n",
       "3         1       1  35.0      1      0  53.1000       1     0  0  0  1\n",
       "4         0       3  35.0      0      0   8.0500       0     1  0  0  1"
      ]
     },
     "execution_count": 24,
     "metadata": {},
     "output_type": "execute_result"
    }
   ],
   "source": [
    "train.head()"
   ]
  },
  {
   "cell_type": "code",
   "execution_count": 25,
   "metadata": {},
   "outputs": [
    {
     "data": {
      "text/html": [
       "<div>\n",
       "<style scoped>\n",
       "    .dataframe tbody tr th:only-of-type {\n",
       "        vertical-align: middle;\n",
       "    }\n",
       "\n",
       "    .dataframe tbody tr th {\n",
       "        vertical-align: top;\n",
       "    }\n",
       "\n",
       "    .dataframe thead th {\n",
       "        text-align: right;\n",
       "    }\n",
       "</style>\n",
       "<table border=\"1\" class=\"dataframe\">\n",
       "  <thead>\n",
       "    <tr style=\"text-align: right;\">\n",
       "      <th></th>\n",
       "      <th>Pclass</th>\n",
       "      <th>Age</th>\n",
       "      <th>SibSp</th>\n",
       "      <th>Parch</th>\n",
       "      <th>Fare</th>\n",
       "      <th>female</th>\n",
       "      <th>male</th>\n",
       "      <th>C</th>\n",
       "      <th>Q</th>\n",
       "      <th>S</th>\n",
       "    </tr>\n",
       "  </thead>\n",
       "  <tbody>\n",
       "    <tr>\n",
       "      <th>0</th>\n",
       "      <td>3</td>\n",
       "      <td>34.5</td>\n",
       "      <td>0</td>\n",
       "      <td>0</td>\n",
       "      <td>7.8292</td>\n",
       "      <td>0</td>\n",
       "      <td>1</td>\n",
       "      <td>0</td>\n",
       "      <td>1</td>\n",
       "      <td>0</td>\n",
       "    </tr>\n",
       "    <tr>\n",
       "      <th>1</th>\n",
       "      <td>3</td>\n",
       "      <td>47.0</td>\n",
       "      <td>1</td>\n",
       "      <td>0</td>\n",
       "      <td>7.0000</td>\n",
       "      <td>1</td>\n",
       "      <td>0</td>\n",
       "      <td>0</td>\n",
       "      <td>0</td>\n",
       "      <td>1</td>\n",
       "    </tr>\n",
       "    <tr>\n",
       "      <th>2</th>\n",
       "      <td>2</td>\n",
       "      <td>62.0</td>\n",
       "      <td>0</td>\n",
       "      <td>0</td>\n",
       "      <td>9.6875</td>\n",
       "      <td>0</td>\n",
       "      <td>1</td>\n",
       "      <td>0</td>\n",
       "      <td>1</td>\n",
       "      <td>0</td>\n",
       "    </tr>\n",
       "    <tr>\n",
       "      <th>3</th>\n",
       "      <td>3</td>\n",
       "      <td>27.0</td>\n",
       "      <td>0</td>\n",
       "      <td>0</td>\n",
       "      <td>8.6625</td>\n",
       "      <td>0</td>\n",
       "      <td>1</td>\n",
       "      <td>0</td>\n",
       "      <td>0</td>\n",
       "      <td>1</td>\n",
       "    </tr>\n",
       "    <tr>\n",
       "      <th>4</th>\n",
       "      <td>3</td>\n",
       "      <td>22.0</td>\n",
       "      <td>1</td>\n",
       "      <td>1</td>\n",
       "      <td>12.2875</td>\n",
       "      <td>1</td>\n",
       "      <td>0</td>\n",
       "      <td>0</td>\n",
       "      <td>0</td>\n",
       "      <td>1</td>\n",
       "    </tr>\n",
       "  </tbody>\n",
       "</table>\n",
       "</div>"
      ],
      "text/plain": [
       "   Pclass   Age  SibSp  Parch     Fare  female  male  C  Q  S\n",
       "0       3  34.5      0      0   7.8292       0     1  0  1  0\n",
       "1       3  47.0      1      0   7.0000       1     0  0  0  1\n",
       "2       2  62.0      0      0   9.6875       0     1  0  1  0\n",
       "3       3  27.0      0      0   8.6625       0     1  0  0  1\n",
       "4       3  22.0      1      1  12.2875       1     0  0  0  1"
      ]
     },
     "execution_count": 25,
     "metadata": {},
     "output_type": "execute_result"
    }
   ],
   "source": [
    "test.head()"
   ]
  },
  {
   "cell_type": "markdown",
   "metadata": {},
   "source": [
    "## Splitting the dataset into the Training set and Test set"
   ]
  },
  {
   "cell_type": "code",
   "execution_count": 26,
   "metadata": {},
   "outputs": [],
   "source": [
    "X_train = train.iloc[:,1:].values\n",
    "y_train = train.iloc[:,0].values"
   ]
  },
  {
   "cell_type": "code",
   "execution_count": 27,
   "metadata": {},
   "outputs": [
    {
     "data": {
      "text/plain": [
       "Pclass    0\n",
       "Age       0\n",
       "SibSp     0\n",
       "Parch     0\n",
       "Fare      0\n",
       "female    0\n",
       "male      0\n",
       "C         0\n",
       "Q         0\n",
       "S         0\n",
       "dtype: int64"
      ]
     },
     "execution_count": 27,
     "metadata": {},
     "output_type": "execute_result"
    }
   ],
   "source": [
    "X_test = test.iloc[:,:]\n",
    "X_test.isnull().sum()"
   ]
  },
  {
   "cell_type": "code",
   "execution_count": 28,
   "metadata": {},
   "outputs": [
    {
     "data": {
      "text/plain": [
       "(418, 10)"
      ]
     },
     "execution_count": 28,
     "metadata": {},
     "output_type": "execute_result"
    }
   ],
   "source": [
    "X_test.shape"
   ]
  },
  {
   "cell_type": "markdown",
   "metadata": {},
   "source": [
    "### Feature Scaling"
   ]
  },
  {
   "cell_type": "code",
   "execution_count": 29,
   "metadata": {},
   "outputs": [],
   "source": [
    "from sklearn.preprocessing import StandardScaler\n",
    "sc = StandardScaler()\n",
    "X_train = sc.fit_transform(X_train)\n",
    "X_test = sc.transform(X_test)"
   ]
  },
  {
   "cell_type": "markdown",
   "metadata": {},
   "source": [
    "### Further splitting X_train into X_train_train and X_train_test for gaining more insights"
   ]
  },
  {
   "cell_type": "code",
   "execution_count": 30,
   "metadata": {},
   "outputs": [],
   "source": [
    "from sklearn.model_selection import train_test_split\n",
    "X_train_train,X_train_test,y_train_train,y_train_test = train_test_split(X_train,y_train, test_size = 0.25, random_state = 42)\n"
   ]
  },
  {
   "cell_type": "code",
   "execution_count": 31,
   "metadata": {},
   "outputs": [
    {
     "data": {
      "text/plain": [
       "array([[-1.56610693,  0.        , -0.4745452 , ..., -0.48204268,\n",
       "        -0.30756234,  0.61583843],\n",
       "       [ 0.82737724, -0.36161755, -0.4745452 , ..., -0.48204268,\n",
       "        -0.30756234,  0.61583843],\n",
       "       [-0.36936484, -0.4385719 , -0.4745452 , ..., -0.48204268,\n",
       "        -0.30756234,  0.61583843],\n",
       "       ...,\n",
       "       [ 0.82737724,  0.86965206,  1.34013193, ..., -0.48204268,\n",
       "        -0.30756234,  0.61583843],\n",
       "       [-1.56610693, -1.20811541,  0.43279337, ..., -0.48204268,\n",
       "        -0.30756234,  0.61583843],\n",
       "       [-1.56610693, -0.66943495, -0.4745452 , ..., -0.48204268,\n",
       "        -0.30756234,  0.61583843]])"
      ]
     },
     "execution_count": 31,
     "metadata": {},
     "output_type": "execute_result"
    }
   ],
   "source": [
    "X_train_train"
   ]
  },
  {
   "cell_type": "code",
   "execution_count": 32,
   "metadata": {},
   "outputs": [
    {
     "data": {
      "text/plain": [
       "array([[ 0.82737724,  0.        ,  0.43279337, ...,  2.0745051 ,\n",
       "        -0.30756234, -1.62380254],\n",
       "       [-0.36936484,  0.10010856, -0.4745452 , ..., -0.48204268,\n",
       "        -0.30756234,  0.61583843],\n",
       "       [ 0.82737724, -0.7463893 , -0.4745452 , ..., -0.48204268,\n",
       "        -0.30756234,  0.61583843],\n",
       "       ...,\n",
       "       [ 0.82737724,  0.        , -0.4745452 , ..., -0.48204268,\n",
       "        -0.30756234,  0.61583843],\n",
       "       [-0.36936484, -0.4385719 , -0.4745452 , ..., -0.48204268,\n",
       "        -0.30756234,  0.61583843],\n",
       "       [ 0.82737724, -0.900298  ,  0.43279337, ..., -0.48204268,\n",
       "        -0.30756234,  0.61583843]])"
      ]
     },
     "execution_count": 32,
     "metadata": {},
     "output_type": "execute_result"
    }
   ],
   "source": [
    "X_train_test"
   ]
  },
  {
   "cell_type": "code",
   "execution_count": 33,
   "metadata": {},
   "outputs": [
    {
     "data": {
      "text/plain": [
       "array([1, 0, 1, 0, 1, 1, 1, 0, 1, 0, 1, 0, 1, 1, 1, 1, 0, 0, 1, 0, 0, 0,\n",
       "       0, 0, 0, 0, 1, 1, 0, 0, 0, 1, 1, 0, 1, 0, 1, 1, 0, 1, 1, 0, 0, 0,\n",
       "       1, 1, 0, 1, 0, 0, 0, 1, 0, 0, 0, 1, 0, 0, 0, 1, 0, 0, 0, 1, 0, 1,\n",
       "       1, 0, 0, 1, 0, 0, 0, 0, 0, 0, 0, 1, 1, 0, 0, 1, 1, 0, 0, 0, 0, 0,\n",
       "       0, 1, 0, 0, 1, 1, 1, 1, 0, 0, 1, 0, 0, 1, 0, 1, 0, 0, 0, 0, 0, 0,\n",
       "       0, 0, 0, 1, 1, 0, 0, 0, 0, 0, 1, 0, 0, 1, 0, 1, 1, 1, 1, 0, 0, 0,\n",
       "       0, 1, 1, 0, 1, 0, 1, 0, 0, 0, 1, 0, 0, 0, 0, 1, 0, 1, 1, 0, 0, 1,\n",
       "       1, 1, 0, 1, 0, 1, 1, 0, 0, 0, 0, 0, 0, 0, 1, 1, 1, 1, 1, 0, 0, 0,\n",
       "       1, 1, 0, 1, 0, 1, 1, 1, 0, 1, 0, 0, 0, 1, 1, 0, 1, 1, 0, 0, 0, 1,\n",
       "       0, 1, 0, 0, 0, 1, 0, 1, 1, 1, 0, 1, 0, 0, 0, 0, 0, 0, 0, 1, 0, 0,\n",
       "       1, 0, 0, 0, 1, 0, 0, 1, 0, 1, 0, 0, 0, 0, 1, 0, 0, 0, 0, 1, 0, 0,\n",
       "       1, 0, 0, 1, 1, 1, 0, 0, 0, 1, 1, 0, 1, 1, 0, 1, 0, 1, 0, 0, 0, 0,\n",
       "       1, 1, 1, 1, 0, 1, 1, 1, 0, 0, 0, 0, 0, 1, 0, 0, 0, 0, 0, 0, 0, 1,\n",
       "       0, 1, 0, 0, 0, 0, 0, 1, 1, 0, 1, 0, 0, 1, 0, 1, 0, 1, 0, 0, 0, 0,\n",
       "       1, 0, 0, 0, 0, 0, 1, 1, 1, 1, 1, 0, 1, 1, 0, 1, 0, 1, 1, 0, 1, 0,\n",
       "       1, 0, 1, 0, 0, 0, 0, 0, 0, 0, 0, 1, 0, 0, 0, 0, 1, 0, 0, 0, 0, 1,\n",
       "       0, 0, 0, 0, 1, 0, 1, 0, 0, 1, 1, 0, 0, 0, 0, 0, 1, 0, 0, 1, 0, 0,\n",
       "       0, 0, 0, 1, 1, 0, 0, 0, 0, 0, 1, 1, 0, 1, 1, 0, 1, 1, 0, 1, 0, 0,\n",
       "       1, 0, 1, 0, 0, 0, 0, 0, 1, 0, 0, 0, 1, 0, 0, 1, 0, 0, 0, 1, 0, 1,\n",
       "       1, 1, 1, 1, 0, 0, 0, 1, 1, 0, 1, 0, 1, 0, 0, 0, 0, 1, 0, 0, 0, 0,\n",
       "       1, 0, 0, 1, 0, 0, 0, 0, 1, 0, 0, 0, 1, 1, 0, 0, 1, 0, 0, 1, 1, 0,\n",
       "       0, 0, 1, 1, 0, 0, 0, 0, 0, 0, 1, 1, 1, 1, 0, 1, 0, 1, 0, 0, 1, 1,\n",
       "       0, 0, 0, 0, 1, 0, 0, 1, 1, 1, 0, 1, 1, 0, 0, 0, 0, 0, 1, 0, 0, 1,\n",
       "       1, 1, 0, 0, 0, 0, 1, 1, 1, 1, 0, 0, 0, 0, 0, 0, 0, 1, 1, 0, 1, 0,\n",
       "       0, 1, 1, 1, 0, 0, 1, 1, 0, 0, 0, 0, 1, 1, 0, 1, 0, 0, 1, 0, 0, 0,\n",
       "       0, 0, 1, 1, 0, 1, 0, 0, 1, 0, 0, 0, 1, 1, 1, 1, 1, 0, 0, 1, 0, 1,\n",
       "       0, 1, 0, 1, 1, 1, 0, 1, 0, 0, 0, 0, 0, 0, 0, 0, 1, 1, 0, 0, 0, 0,\n",
       "       0, 0, 0, 1, 0, 1, 0, 0, 0, 1, 0, 1, 0, 1, 1, 1, 0, 1, 0, 0, 0, 1,\n",
       "       0, 1, 1, 0, 0, 0, 0, 0, 0, 0, 0, 1, 1, 1, 0, 0, 1, 0, 1, 0, 0, 0,\n",
       "       0, 0, 0, 0, 0, 0, 0, 0, 0, 0, 0, 0, 1, 0, 0, 0, 1, 1, 0, 0, 0, 0,\n",
       "       0, 1, 0, 1, 0, 0, 1, 0], dtype=int64)"
      ]
     },
     "execution_count": 33,
     "metadata": {},
     "output_type": "execute_result"
    }
   ],
   "source": [
    "y_train_train"
   ]
  },
  {
   "cell_type": "code",
   "execution_count": 34,
   "metadata": {},
   "outputs": [
    {
     "data": {
      "text/plain": [
       "array([1, 0, 0, 1, 1, 1, 1, 0, 1, 1, 0, 0, 0, 0, 0, 1, 1, 1, 0, 0, 0, 1,\n",
       "       1, 0, 0, 0, 0, 1, 0, 0, 0, 1, 0, 0, 1, 0, 1, 1, 1, 0, 0, 0, 0, 0,\n",
       "       0, 0, 0, 0, 0, 0, 1, 1, 0, 1, 0, 1, 0, 1, 1, 1, 0, 1, 1, 0, 0, 0,\n",
       "       0, 0, 0, 1, 0, 1, 1, 1, 0, 0, 0, 1, 0, 0, 0, 1, 1, 0, 0, 0, 1, 1,\n",
       "       0, 0, 1, 0, 0, 0, 0, 0, 1, 1, 1, 0, 0, 0, 1, 0, 0, 0, 1, 0, 1, 1,\n",
       "       1, 0, 1, 1, 0, 0, 0, 0, 1, 0, 0, 1, 1, 1, 0, 1, 1, 0, 0, 0, 1, 1,\n",
       "       0, 1, 1, 1, 1, 0, 0, 0, 0, 0, 0, 0, 0, 1, 0, 0, 1, 0, 0, 0, 0, 1,\n",
       "       0, 0, 1, 1, 1, 0, 0, 1, 0, 1, 0, 0, 0, 1, 0, 0, 1, 1, 1, 0, 0, 0,\n",
       "       1, 1, 1, 0, 0, 0, 0, 0, 0, 0, 0, 0, 1, 1, 0, 0, 0, 1, 1, 1, 1, 0,\n",
       "       1, 0, 0, 0, 1, 1, 1, 1, 0, 1, 0, 0, 0, 0, 1, 0, 0, 0, 1, 0, 1, 0,\n",
       "       0, 0, 0], dtype=int64)"
      ]
     },
     "execution_count": 34,
     "metadata": {},
     "output_type": "execute_result"
    }
   ],
   "source": [
    "y_train_test"
   ]
  },
  {
   "cell_type": "code",
   "execution_count": 35,
   "metadata": {},
   "outputs": [
    {
     "data": {
      "text/plain": [
       "(223, 10)"
      ]
     },
     "execution_count": 35,
     "metadata": {},
     "output_type": "execute_result"
    }
   ],
   "source": [
    "X_train_test.shape"
   ]
  },
  {
   "cell_type": "markdown",
   "metadata": {},
   "source": [
    "### Applying Artificial Neural Network"
   ]
  },
  {
   "cell_type": "code",
   "execution_count": 36,
   "metadata": {},
   "outputs": [],
   "source": [
    "# intitializing ann\n",
    "import tensorflow as tf\n",
    "ann = tf.keras.models.Sequential() "
   ]
  },
  {
   "cell_type": "code",
   "execution_count": 37,
   "metadata": {},
   "outputs": [],
   "source": [
    "# input layer and hidden layer 1\n",
    "ann.add(tf.keras.layers.Dense(units = 14, activation = 'relu'))"
   ]
  },
  {
   "cell_type": "code",
   "execution_count": 38,
   "metadata": {},
   "outputs": [],
   "source": [
    "#Hidden layer 2\n",
    "ann.add(tf.keras.layers.Dense(units = 14, activation = 'relu'))"
   ]
  },
  {
   "cell_type": "code",
   "execution_count": 39,
   "metadata": {},
   "outputs": [],
   "source": [
    "# Output layer\n",
    "ann.add(tf.keras.layers.Dense(units = 1, activation = 'sigmoid'))"
   ]
  },
  {
   "cell_type": "code",
   "execution_count": 40,
   "metadata": {},
   "outputs": [],
   "source": [
    "# Optimizing by Adam Optimizer, 'binary_crossentropy' is selected as Loss function\n",
    "# accuracy is selected as metrics\n",
    "ann.compile(optimizer = 'adam', loss = 'binary_crossentropy', metrics = ['accuracy'])"
   ]
  },
  {
   "cell_type": "code",
   "execution_count": 41,
   "metadata": {},
   "outputs": [
    {
     "name": "stdout",
     "output_type": "stream",
     "text": [
      "Train on 668 samples\n",
      "Epoch 1/100\n",
      "668/668 [==============================] - 1s 2ms/sample - loss: 0.6683 - accuracy: 0.6183\n",
      "Epoch 2/100\n",
      "668/668 [==============================] - 0s 228us/sample - loss: 0.5425 - accuracy: 0.7725\n",
      "Epoch 3/100\n",
      "668/668 [==============================] - 0s 228us/sample - loss: 0.4728 - accuracy: 0.7979\n",
      "Epoch 4/100\n",
      "668/668 [==============================] - 0s 251us/sample - loss: 0.4521 - accuracy: 0.7994\n",
      "Epoch 5/100\n",
      "668/668 [==============================] - 0s 263us/sample - loss: 0.4432 - accuracy: 0.8069\n",
      "Epoch 6/100\n",
      "668/668 [==============================] - 0s 251us/sample - loss: 0.4372 - accuracy: 0.8069\n",
      "Epoch 7/100\n",
      "668/668 [==============================] - 0s 192us/sample - loss: 0.4325 - accuracy: 0.8114\n",
      "Epoch 8/100\n",
      "668/668 [==============================] - 0s 204us/sample - loss: 0.4283 - accuracy: 0.8159\n",
      "Epoch 9/100\n",
      "668/668 [==============================] - 0s 192us/sample - loss: 0.4266 - accuracy: 0.8174\n",
      "Epoch 10/100\n",
      "668/668 [==============================] - 0s 216us/sample - loss: 0.4229 - accuracy: 0.8249\n",
      "Epoch 11/100\n",
      "668/668 [==============================] - 0s 204us/sample - loss: 0.4188 - accuracy: 0.8249\n",
      "Epoch 12/100\n",
      "668/668 [==============================] - 0s 192us/sample - loss: 0.4174 - accuracy: 0.8263\n",
      "Epoch 13/100\n",
      "668/668 [==============================] - 0s 204us/sample - loss: 0.4151 - accuracy: 0.8234\n",
      "Epoch 14/100\n",
      "668/668 [==============================] - 0s 216us/sample - loss: 0.4135 - accuracy: 0.8219\n",
      "Epoch 15/100\n",
      "668/668 [==============================] - 0s 204us/sample - loss: 0.4117 - accuracy: 0.8278\n",
      "Epoch 16/100\n",
      "668/668 [==============================] - 0s 204us/sample - loss: 0.4095 - accuracy: 0.8263\n",
      "Epoch 17/100\n",
      "668/668 [==============================] - 0s 216us/sample - loss: 0.4091 - accuracy: 0.8293\n",
      "Epoch 18/100\n",
      "668/668 [==============================] - 0s 204us/sample - loss: 0.4071 - accuracy: 0.8263\n",
      "Epoch 19/100\n",
      "668/668 [==============================] - 0s 204us/sample - loss: 0.4059 - accuracy: 0.8249\n",
      "Epoch 20/100\n",
      "668/668 [==============================] - 0s 192us/sample - loss: 0.4051 - accuracy: 0.8293\n",
      "Epoch 21/100\n",
      "668/668 [==============================] - 0s 204us/sample - loss: 0.4050 - accuracy: 0.8368\n",
      "Epoch 22/100\n",
      "668/668 [==============================] - 0s 204us/sample - loss: 0.4029 - accuracy: 0.8263\n",
      "Epoch 23/100\n",
      "668/668 [==============================] - 0s 204us/sample - loss: 0.4026 - accuracy: 0.8293\n",
      "Epoch 24/100\n",
      "668/668 [==============================] - 0s 192us/sample - loss: 0.4002 - accuracy: 0.8338\n",
      "Epoch 25/100\n",
      "668/668 [==============================] - 0s 204us/sample - loss: 0.4012 - accuracy: 0.8308\n",
      "Epoch 26/100\n",
      "668/668 [==============================] - 0s 204us/sample - loss: 0.3987 - accuracy: 0.8368\n",
      "Epoch 27/100\n",
      "668/668 [==============================] - 0s 192us/sample - loss: 0.3976 - accuracy: 0.8383\n",
      "Epoch 28/100\n",
      "668/668 [==============================] - 0s 216us/sample - loss: 0.3966 - accuracy: 0.8383\n",
      "Epoch 29/100\n",
      "668/668 [==============================] - 0s 204us/sample - loss: 0.3956 - accuracy: 0.8398\n",
      "Epoch 30/100\n",
      "668/668 [==============================] - 0s 204us/sample - loss: 0.3940 - accuracy: 0.8353\n",
      "Epoch 31/100\n",
      "668/668 [==============================] - 0s 204us/sample - loss: 0.3926 - accuracy: 0.8353\n",
      "Epoch 32/100\n",
      "668/668 [==============================] - 0s 216us/sample - loss: 0.3931 - accuracy: 0.8338\n",
      "Epoch 33/100\n",
      "668/668 [==============================] - 0s 204us/sample - loss: 0.3924 - accuracy: 0.8368\n",
      "Epoch 34/100\n",
      "668/668 [==============================] - 0s 204us/sample - loss: 0.3918 - accuracy: 0.8353\n",
      "Epoch 35/100\n",
      "668/668 [==============================] - 0s 204us/sample - loss: 0.3908 - accuracy: 0.8428\n",
      "Epoch 36/100\n",
      "668/668 [==============================] - 0s 192us/sample - loss: 0.3894 - accuracy: 0.8353\n",
      "Epoch 37/100\n",
      "668/668 [==============================] - 0s 216us/sample - loss: 0.3911 - accuracy: 0.8398\n",
      "Epoch 38/100\n",
      "668/668 [==============================] - 0s 192us/sample - loss: 0.3874 - accuracy: 0.8383\n",
      "Epoch 39/100\n",
      "668/668 [==============================] - 0s 204us/sample - loss: 0.3876 - accuracy: 0.8458\n",
      "Epoch 40/100\n",
      "668/668 [==============================] - 0s 204us/sample - loss: 0.3871 - accuracy: 0.8383\n",
      "Epoch 41/100\n",
      "668/668 [==============================] - 0s 204us/sample - loss: 0.3861 - accuracy: 0.8323\n",
      "Epoch 42/100\n",
      "668/668 [==============================] - 0s 204us/sample - loss: 0.3863 - accuracy: 0.8428\n",
      "Epoch 43/100\n",
      "668/668 [==============================] - 0s 204us/sample - loss: 0.3846 - accuracy: 0.8383\n",
      "Epoch 44/100\n",
      "668/668 [==============================] - 0s 204us/sample - loss: 0.3865 - accuracy: 0.8398\n",
      "Epoch 45/100\n",
      "668/668 [==============================] - 0s 204us/sample - loss: 0.3842 - accuracy: 0.8353\n",
      "Epoch 46/100\n",
      "668/668 [==============================] - 0s 216us/sample - loss: 0.3837 - accuracy: 0.8398\n",
      "Epoch 47/100\n",
      "668/668 [==============================] - 0s 287us/sample - loss: 0.3822 - accuracy: 0.8383\n",
      "Epoch 48/100\n",
      "668/668 [==============================] - 0s 240us/sample - loss: 0.3816 - accuracy: 0.8413\n",
      "Epoch 49/100\n",
      "668/668 [==============================] - 0s 216us/sample - loss: 0.3804 - accuracy: 0.8413\n",
      "Epoch 50/100\n",
      "668/668 [==============================] - 0s 228us/sample - loss: 0.3791 - accuracy: 0.8458\n",
      "Epoch 51/100\n",
      "668/668 [==============================] - 0s 216us/sample - loss: 0.3788 - accuracy: 0.8458\n",
      "Epoch 52/100\n",
      "668/668 [==============================] - 0s 216us/sample - loss: 0.3788 - accuracy: 0.8383\n",
      "Epoch 53/100\n",
      "668/668 [==============================] - ETA: 0s - loss: 0.3765 - accuracy: 0.83 - 0s 204us/sample - loss: 0.3791 - accuracy: 0.8368\n",
      "Epoch 54/100\n",
      "668/668 [==============================] - 0s 204us/sample - loss: 0.3787 - accuracy: 0.8443\n",
      "Epoch 55/100\n",
      "668/668 [==============================] - 0s 204us/sample - loss: 0.3778 - accuracy: 0.8413\n",
      "Epoch 56/100\n",
      "668/668 [==============================] - 0s 216us/sample - loss: 0.3765 - accuracy: 0.8413\n",
      "Epoch 57/100\n",
      "668/668 [==============================] - 0s 204us/sample - loss: 0.3784 - accuracy: 0.8428\n",
      "Epoch 58/100\n",
      "668/668 [==============================] - 0s 228us/sample - loss: 0.3749 - accuracy: 0.8443\n",
      "Epoch 59/100\n",
      "668/668 [==============================] - 0s 228us/sample - loss: 0.3748 - accuracy: 0.8458\n",
      "Epoch 60/100\n",
      "668/668 [==============================] - 0s 299us/sample - loss: 0.3746 - accuracy: 0.8428\n",
      "Epoch 61/100\n",
      "668/668 [==============================] - 0s 263us/sample - loss: 0.3736 - accuracy: 0.8503\n",
      "Epoch 62/100\n",
      "668/668 [==============================] - 0s 228us/sample - loss: 0.3734 - accuracy: 0.8488\n",
      "Epoch 63/100\n",
      "668/668 [==============================] - 0s 228us/sample - loss: 0.3731 - accuracy: 0.8473\n",
      "Epoch 64/100\n",
      "668/668 [==============================] - 0s 216us/sample - loss: 0.3714 - accuracy: 0.8443\n",
      "Epoch 65/100\n",
      "668/668 [==============================] - 0s 204us/sample - loss: 0.3723 - accuracy: 0.8473\n",
      "Epoch 66/100\n",
      "668/668 [==============================] - 0s 204us/sample - loss: 0.3730 - accuracy: 0.8443\n",
      "Epoch 67/100\n",
      "668/668 [==============================] - 0s 204us/sample - loss: 0.3704 - accuracy: 0.8428\n",
      "Epoch 68/100\n",
      "668/668 [==============================] - 0s 204us/sample - loss: 0.3715 - accuracy: 0.8443\n",
      "Epoch 69/100\n",
      "668/668 [==============================] - 0s 204us/sample - loss: 0.3688 - accuracy: 0.8473\n",
      "Epoch 70/100\n",
      "668/668 [==============================] - 0s 204us/sample - loss: 0.3721 - accuracy: 0.8473\n",
      "Epoch 71/100\n",
      "668/668 [==============================] - 0s 192us/sample - loss: 0.3687 - accuracy: 0.8443\n",
      "Epoch 72/100\n",
      "668/668 [==============================] - 0s 216us/sample - loss: 0.3673 - accuracy: 0.8458\n",
      "Epoch 73/100\n",
      "668/668 [==============================] - 0s 204us/sample - loss: 0.3671 - accuracy: 0.8443\n",
      "Epoch 74/100\n",
      "668/668 [==============================] - 0s 204us/sample - loss: 0.3666 - accuracy: 0.8488\n",
      "Epoch 75/100\n",
      "668/668 [==============================] - 0s 228us/sample - loss: 0.3656 - accuracy: 0.8503\n",
      "Epoch 76/100\n",
      "668/668 [==============================] - 0s 204us/sample - loss: 0.3645 - accuracy: 0.8488\n",
      "Epoch 77/100\n",
      "668/668 [==============================] - 0s 204us/sample - loss: 0.3655 - accuracy: 0.8473\n",
      "Epoch 78/100\n",
      "668/668 [==============================] - 0s 204us/sample - loss: 0.3655 - accuracy: 0.8518\n",
      "Epoch 79/100\n",
      "668/668 [==============================] - 0s 216us/sample - loss: 0.3653 - accuracy: 0.8503\n",
      "Epoch 80/100\n",
      "668/668 [==============================] - 0s 216us/sample - loss: 0.3644 - accuracy: 0.8473\n",
      "Epoch 81/100\n",
      "668/668 [==============================] - 0s 204us/sample - loss: 0.3633 - accuracy: 0.8503\n",
      "Epoch 82/100\n",
      "668/668 [==============================] - 0s 204us/sample - loss: 0.3644 - accuracy: 0.8503\n",
      "Epoch 83/100\n",
      "668/668 [==============================] - 0s 204us/sample - loss: 0.3631 - accuracy: 0.8518\n",
      "Epoch 84/100\n",
      "668/668 [==============================] - 0s 216us/sample - loss: 0.3612 - accuracy: 0.8458\n",
      "Epoch 85/100\n",
      "668/668 [==============================] - 0s 204us/sample - loss: 0.3614 - accuracy: 0.8473 - loss: 0.3696 - accuracy: 0.\n",
      "Epoch 86/100\n",
      "668/668 [==============================] - 0s 216us/sample - loss: 0.3608 - accuracy: 0.8473\n",
      "Epoch 87/100\n",
      "668/668 [==============================] - 0s 275us/sample - loss: 0.3594 - accuracy: 0.8488\n",
      "Epoch 88/100\n",
      "668/668 [==============================] - 0s 337us/sample - loss: 0.3604 - accuracy: 0.8488\n",
      "Epoch 89/100\n",
      "668/668 [==============================] - 0s 263us/sample - loss: 0.3589 - accuracy: 0.8458\n",
      "Epoch 90/100\n",
      "668/668 [==============================] - 0s 255us/sample - loss: 0.3602 - accuracy: 0.8533\n",
      "Epoch 91/100\n",
      "668/668 [==============================] - 0s 232us/sample - loss: 0.3587 - accuracy: 0.8428\n",
      "Epoch 92/100\n",
      "668/668 [==============================] - 0s 219us/sample - loss: 0.3583 - accuracy: 0.8503\n",
      "Epoch 93/100\n",
      "668/668 [==============================] - 0s 231us/sample - loss: 0.3581 - accuracy: 0.8473\n",
      "Epoch 94/100\n",
      "668/668 [==============================] - 0s 230us/sample - loss: 0.3585 - accuracy: 0.8503\n",
      "Epoch 95/100\n",
      "668/668 [==============================] - 0s 213us/sample - loss: 0.3595 - accuracy: 0.8443\n",
      "Epoch 96/100\n",
      "668/668 [==============================] - 0s 221us/sample - loss: 0.3559 - accuracy: 0.8428\n",
      "Epoch 97/100\n",
      "668/668 [==============================] - 0s 246us/sample - loss: 0.3561 - accuracy: 0.8443\n",
      "Epoch 98/100\n",
      "668/668 [==============================] - 0s 224us/sample - loss: 0.3555 - accuracy: 0.8488\n",
      "Epoch 99/100\n",
      "668/668 [==============================] - 0s 223us/sample - loss: 0.3549 - accuracy: 0.8488\n",
      "Epoch 100/100\n",
      "668/668 [==============================] - 0s 232us/sample - loss: 0.3565 - accuracy: 0.8473\n"
     ]
    },
    {
     "data": {
      "text/plain": [
       "<tensorflow.python.keras.callbacks.History at 0x21d1e3b61d0>"
      ]
     },
     "execution_count": 41,
     "metadata": {},
     "output_type": "execute_result"
    }
   ],
   "source": [
    "# Fitting X_train_train and y_train_train in our model\n",
    "ann.fit(X_train_train, y_train_train, batch_size = 8, epochs = 100)"
   ]
  },
  {
   "cell_type": "markdown",
   "metadata": {},
   "source": [
    "## Predicting the Train set results"
   ]
  },
  {
   "cell_type": "code",
   "execution_count": 42,
   "metadata": {},
   "outputs": [],
   "source": [
    "y_pred_train = ann.predict(X_train_train)"
   ]
  },
  {
   "cell_type": "code",
   "execution_count": 43,
   "metadata": {},
   "outputs": [],
   "source": [
    "# Threshold is set to 0.5\n",
    "y_pred_train = (y_pred_train > 0.5)"
   ]
  },
  {
   "cell_type": "markdown",
   "metadata": {},
   "source": [
    "## Confusion Matrix and Accuracy Score"
   ]
  },
  {
   "cell_type": "code",
   "execution_count": 44,
   "metadata": {},
   "outputs": [
    {
     "name": "stdout",
     "output_type": "stream",
     "text": [
      "Confusion Matrix: [[394  21]\n",
      " [ 78 175]]\n",
      "Accuracy of the model is 0.8517964071856288\n"
     ]
    }
   ],
   "source": [
    "from sklearn.metrics import confusion_matrix, accuracy_score\n",
    "cm1 = confusion_matrix(y_train_train, y_pred_train)\n",
    "print(\"Confusion Matrix:\", cm1)\n",
    "print(\"Accuracy of the model is\", accuracy_score(y_train_train, y_pred_train))"
   ]
  },
  {
   "cell_type": "markdown",
   "metadata": {},
   "source": [
    "## Plotting Confusion Matrix"
   ]
  },
  {
   "cell_type": "code",
   "execution_count": 45,
   "metadata": {},
   "outputs": [],
   "source": [
    "from sklearn.metrics import classification_report, confusion_matrix\n",
    "import itertools\n",
    "\n",
    "# Defining th function for plotting Confusion Matrix\n",
    "\n",
    "def plot_confusion_matrix(cm, classes,\n",
    "                          normalize=False,\n",
    "                          title='Confusion matrix',\n",
    "                          cmap=plt.cm.Blues):\n",
    "    \"\"\"\n",
    "    This function prints and plots the confusion matrix.\n",
    "    Normalization can be applied by setting `normalize=True`.\n",
    "    \"\"\"\n",
    "    if normalize:\n",
    "        cm = cm.astype('float') / cm.sum(axis=1)[:, np.newaxis]\n",
    "        print(\"Normalized confusion matrix\")\n",
    "    else:\n",
    "        print('Confusion matrix, without normalization')\n",
    "\n",
    "    print(cm)\n",
    "\n",
    "    plt.imshow(cm, interpolation='nearest', cmap=cmap)\n",
    "    plt.title(title)\n",
    "    plt.colorbar()\n",
    "    tick_marks = np.arange(len(classes))\n",
    "    plt.xticks(tick_marks, classes, rotation=45)\n",
    "    plt.yticks(tick_marks, classes)\n",
    "\n",
    "    fmt = '.2f' if normalize else 'd'\n",
    "    thresh = cm.max() / 2.\n",
    "    for i, j in itertools.product(range(cm.shape[0]), range(cm.shape[1])):\n",
    "        plt.text(j, i, format(cm[i, j], fmt),\n",
    "                 horizontalalignment=\"center\",\n",
    "                 color=\"white\" if cm[i, j] > thresh else \"black\")\n",
    "\n",
    "    plt.tight_layout()\n",
    "    plt.ylabel('True label')\n",
    "    plt.xlabel('Predicted label')"
   ]
  },
  {
   "cell_type": "markdown",
   "metadata": {},
   "source": [
    "## Train Set Accuracy and Confusion Matrix"
   ]
  },
  {
   "cell_type": "code",
   "execution_count": 46,
   "metadata": {},
   "outputs": [
    {
     "name": "stdout",
     "output_type": "stream",
     "text": [
      "              precision    recall  f1-score   support\n",
      "\n",
      "           0       0.83      0.95      0.89       415\n",
      "           1       0.89      0.69      0.78       253\n",
      "\n",
      "    accuracy                           0.85       668\n",
      "   macro avg       0.86      0.82      0.83       668\n",
      "weighted avg       0.86      0.85      0.85       668\n",
      "\n",
      "Confusion matrix, without normalization\n",
      "[[394  21]\n",
      " [ 78 175]]\n"
     ]
    },
    {
     "data": {
      "image/png": "[encoded data removed]",
      "text/plain": [
       "<Figure size 432x288 with 2 Axes>"
      ]
     },
     "metadata": {
      "needs_background": "light"
     },
     "output_type": "display_data"
    }
   ],
   "source": [
    "# Compute confusion matrix\n",
    "cnf_matrix = confusion_matrix(y_train_train, y_pred_train, labels=[0,1])\n",
    "np.set_printoptions(precision=2)\n",
    "\n",
    "print (classification_report(y_train_train, y_pred_train))\n",
    "\n",
    "# Plot non-normalized confusion matrix\n",
    "plt.figure()\n",
    "plot_confusion_matrix(cnf_matrix, classes=['Not Survived(0)','Survived(1)'], normalize= False,  title='Confusion matrix')"
   ]
  },
  {
   "cell_type": "markdown",
   "metadata": {},
   "source": [
    "## Predicting the Test set results"
   ]
  },
  {
   "cell_type": "code",
   "execution_count": 47,
   "metadata": {},
   "outputs": [],
   "source": [
    "y_pred = ann.predict(X_train_test)"
   ]
  },
  {
   "cell_type": "code",
   "execution_count": 48,
   "metadata": {},
   "outputs": [
    {
     "name": "stdout",
     "output_type": "stream",
     "text": [
      "[[0 1]\n",
      " [0 0]\n",
      " [0 0]\n",
      " [1 1]\n",
      " [1 1]\n",
      " [1 1]\n",
      " [1 1]\n",
      " [0 0]\n",
      " [1 1]\n",
      " [1 1]\n",
      " [0 0]\n",
      " [0 0]\n",
      " [0 0]\n",
      " [0 0]\n",
      " [0 0]\n",
      " [1 1]\n",
      " [0 1]\n",
      " [1 1]\n",
      " [0 0]\n",
      " [0 0]\n",
      " [0 0]\n",
      " [0 1]\n",
      " [0 1]\n",
      " [0 0]\n",
      " [0 0]\n",
      " [0 0]\n",
      " [0 0]\n",
      " [0 1]\n",
      " [0 0]\n",
      " [0 0]\n",
      " [0 0]\n",
      " [0 1]\n",
      " [0 0]\n",
      " [0 0]\n",
      " [0 1]\n",
      " [0 0]\n",
      " [0 1]\n",
      " [1 1]\n",
      " [1 1]\n",
      " [0 0]\n",
      " [0 0]\n",
      " [0 0]\n",
      " [0 0]\n",
      " [0 0]\n",
      " [0 0]\n",
      " [0 0]\n",
      " [0 0]\n",
      " [0 0]\n",
      " [0 0]\n",
      " [0 0]\n",
      " [1 1]\n",
      " [1 1]\n",
      " [0 0]\n",
      " [1 1]\n",
      " [0 0]\n",
      " [1 1]\n",
      " [0 0]\n",
      " [1 1]\n",
      " [1 1]\n",
      " [1 1]\n",
      " [0 0]\n",
      " [1 1]\n",
      " [1 1]\n",
      " [0 0]\n",
      " [0 0]\n",
      " [1 0]\n",
      " [0 0]\n",
      " [0 0]\n",
      " [0 0]\n",
      " [1 1]\n",
      " [1 0]\n",
      " [1 1]\n",
      " [0 1]\n",
      " [1 1]\n",
      " [0 0]\n",
      " [0 0]\n",
      " [1 0]\n",
      " [1 1]\n",
      " [1 0]\n",
      " [0 0]\n",
      " [0 0]\n",
      " [1 1]\n",
      " [1 1]\n",
      " [0 0]\n",
      " [0 0]\n",
      " [1 0]\n",
      " [1 1]\n",
      " [1 1]\n",
      " [0 0]\n",
      " [0 0]\n",
      " [1 1]\n",
      " [0 0]\n",
      " [0 0]\n",
      " [0 0]\n",
      " [0 0]\n",
      " [0 0]\n",
      " [0 1]\n",
      " [0 1]\n",
      " [1 1]\n",
      " [0 0]\n",
      " [0 0]\n",
      " [0 0]\n",
      " [1 1]\n",
      " [0 0]\n",
      " [0 0]\n",
      " [0 0]\n",
      " [1 1]\n",
      " [0 0]\n",
      " [0 1]\n",
      " [0 1]\n",
      " [1 1]\n",
      " [0 0]\n",
      " [1 1]\n",
      " [0 1]\n",
      " [0 0]\n",
      " [0 0]\n",
      " [0 0]\n",
      " [0 0]\n",
      " [1 1]\n",
      " [0 0]\n",
      " [0 0]\n",
      " [1 1]\n",
      " [1 1]\n",
      " [1 1]\n",
      " [0 0]\n",
      " [0 1]\n",
      " [1 1]\n",
      " [0 0]\n",
      " [0 0]\n",
      " [0 0]\n",
      " [1 1]\n",
      " [0 1]\n",
      " [0 0]\n",
      " [1 1]\n",
      " [0 1]\n",
      " [1 1]\n",
      " [1 1]\n",
      " [0 0]\n",
      " [0 0]\n",
      " [0 0]\n",
      " [0 0]\n",
      " [1 0]\n",
      " [0 0]\n",
      " [0 0]\n",
      " [0 0]\n",
      " [1 1]\n",
      " [0 0]\n",
      " [0 0]\n",
      " [1 1]\n",
      " [0 0]\n",
      " [0 0]\n",
      " [0 0]\n",
      " [0 0]\n",
      " [1 1]\n",
      " [0 0]\n",
      " [0 0]\n",
      " [0 1]\n",
      " [1 1]\n",
      " [1 1]\n",
      " [0 0]\n",
      " [0 0]\n",
      " [0 1]\n",
      " [0 0]\n",
      " [1 1]\n",
      " [0 0]\n",
      " [0 0]\n",
      " [0 0]\n",
      " [1 1]\n",
      " [0 0]\n",
      " [0 0]\n",
      " [1 1]\n",
      " [1 1]\n",
      " [0 1]\n",
      " [1 0]\n",
      " [0 0]\n",
      " [0 0]\n",
      " [0 1]\n",
      " [1 1]\n",
      " [1 1]\n",
      " [0 0]\n",
      " [0 0]\n",
      " [0 0]\n",
      " [0 0]\n",
      " [0 0]\n",
      " [0 0]\n",
      " [0 0]\n",
      " [0 0]\n",
      " [0 0]\n",
      " [0 1]\n",
      " [1 1]\n",
      " [0 0]\n",
      " [0 0]\n",
      " [0 0]\n",
      " [0 1]\n",
      " [1 1]\n",
      " [1 1]\n",
      " [1 1]\n",
      " [0 0]\n",
      " [1 1]\n",
      " [0 0]\n",
      " [0 0]\n",
      " [0 0]\n",
      " [1 1]\n",
      " [1 1]\n",
      " [0 1]\n",
      " [1 1]\n",
      " [0 0]\n",
      " [0 1]\n",
      " [0 0]\n",
      " [0 0]\n",
      " [0 0]\n",
      " [0 0]\n",
      " [1 1]\n",
      " [0 0]\n",
      " [0 0]\n",
      " [0 0]\n",
      " [1 1]\n",
      " [0 0]\n",
      " [1 1]\n",
      " [0 0]\n",
      " [0 0]\n",
      " [1 0]\n",
      " [0 0]]\n"
     ]
    }
   ],
   "source": [
    "y_pred = (y_pred > 0.5)\n",
    "print(np.concatenate((y_pred.reshape(len(y_pred),1), y_train_test.reshape(len(y_train_test),1)),1))"
   ]
  },
  {
   "cell_type": "code",
   "execution_count": 49,
   "metadata": {},
   "outputs": [
    {
     "name": "stdout",
     "output_type": "stream",
     "text": [
      "[[126   8]\n",
      " [ 25  64]]\n"
     ]
    },
    {
     "data": {
      "text/plain": [
       "0.852017937219731"
      ]
     },
     "execution_count": 49,
     "metadata": {},
     "output_type": "execute_result"
    }
   ],
   "source": [
    "from sklearn.metrics import confusion_matrix, accuracy_score\n",
    "cm = confusion_matrix(y_train_test, y_pred)\n",
    "print(cm)\n",
    "accuracy_score(y_train_test, y_pred)"
   ]
  },
  {
   "cell_type": "markdown",
   "metadata": {},
   "source": [
    "## Test Set Accuracy and Confusion Matrix"
   ]
  },
  {
   "cell_type": "code",
   "execution_count": 50,
   "metadata": {},
   "outputs": [
    {
     "name": "stdout",
     "output_type": "stream",
     "text": [
      "              precision    recall  f1-score   support\n",
      "\n",
      "           0       0.83      0.94      0.88       134\n",
      "           1       0.89      0.72      0.80        89\n",
      "\n",
      "    accuracy                           0.85       223\n",
      "   macro avg       0.86      0.83      0.84       223\n",
      "weighted avg       0.86      0.85      0.85       223\n",
      "\n",
      "Confusion matrix, without normalization\n",
      "[[126   8]\n",
      " [ 25  64]]\n"
     ]
    },
    {
     "data": {
      "image/png": "[encoded data removed]",
      "text/plain": [
       "<Figure size 432x288 with 2 Axes>"
      ]
     },
     "metadata": {
      "needs_background": "light"
     },
     "output_type": "display_data"
    }
   ],
   "source": [
    "# Compute confusion matrix\n",
    "cnf_matrix = confusion_matrix(y_train_test, y_pred, labels=[0,1])\n",
    "np.set_printoptions(precision=2)\n",
    "\n",
    "print (classification_report(y_train_test, y_pred))\n",
    "\n",
    "# Plot non-normalized confusion matrix\n",
    "plt.figure()\n",
    "plot_confusion_matrix(cnf_matrix, classes=['Not Survived(0)','Survived(1)'],normalize= False,  title='Confusion matrix')"
   ]
  },
  {
   "cell_type": "markdown",
   "metadata": {},
   "source": [
    "## Prediction of X_test"
   ]
  },
  {
   "cell_type": "code",
   "execution_count": 51,
   "metadata": {},
   "outputs": [],
   "source": [
    "y_pred = ann.predict(X_test)\n",
    "y_pred = (y_pred > 0.5)\n",
    "y_pred = y_pred.reshape(len(y_pred),1)"
   ]
  },
  {
   "cell_type": "code",
   "execution_count": 52,
   "metadata": {},
   "outputs": [],
   "source": [
    "passangerid = np.asarray(final)\n",
    "passangerid = passangerid.reshape(len(passangerid),1)"
   ]
  },
  {
   "cell_type": "code",
   "execution_count": 53,
   "metadata": {},
   "outputs": [
    {
     "data": {
      "text/plain": [
       "array([[ 892,    0],\n",
       "       [ 893,    0],\n",
       "       [ 894,    0],\n",
       "       [ 895,    0],\n",
       "       [ 896,    0],\n",
       "       [ 897,    0],\n",
       "       [ 898,    1],\n",
       "       [ 899,    0],\n",
       "       [ 900,    1],\n",
       "       [ 901,    0],\n",
       "       [ 902,    0],\n",
       "       [ 903,    0],\n",
       "       [ 904,    1],\n",
       "       [ 905,    0],\n",
       "       [ 906,    1],\n",
       "       [ 907,    1],\n",
       "       [ 908,    0],\n",
       "       [ 909,    0],\n",
       "       [ 910,    0],\n",
       "       [ 911,    0],\n",
       "       [ 912,    0],\n",
       "       [ 913,    1],\n",
       "       [ 914,    1],\n",
       "       [ 915,    1],\n",
       "       [ 916,    1],\n",
       "       [ 917,    0],\n",
       "       [ 918,    1],\n",
       "       [ 919,    0],\n",
       "       [ 920,    0],\n",
       "       [ 921,    0],\n",
       "       [ 922,    0],\n",
       "       [ 923,    0],\n",
       "       [ 924,    0],\n",
       "       [ 925,    0],\n",
       "       [ 926,    0],\n",
       "       [ 927,    0],\n",
       "       [ 928,    0],\n",
       "       [ 929,    0],\n",
       "       [ 930,    0],\n",
       "       [ 931,    0],\n",
       "       [ 932,    0],\n",
       "       [ 933,    0],\n",
       "       [ 934,    0],\n",
       "       [ 935,    1],\n",
       "       [ 936,    1],\n",
       "       [ 937,    0],\n",
       "       [ 938,    0],\n",
       "       [ 939,    0],\n",
       "       [ 940,    1],\n",
       "       [ 941,    0],\n",
       "       [ 942,    0],\n",
       "       [ 943,    0],\n",
       "       [ 944,    1],\n",
       "       [ 945,    1],\n",
       "       [ 946,    0],\n",
       "       [ 947,    0],\n",
       "       [ 948,    0],\n",
       "       [ 949,    0],\n",
       "       [ 950,    0],\n",
       "       [ 951,    1],\n",
       "       [ 952,    0],\n",
       "       [ 953,    0],\n",
       "       [ 954,    0],\n",
       "       [ 955,    1],\n",
       "       [ 956,    0],\n",
       "       [ 957,    1],\n",
       "       [ 958,    1],\n",
       "       [ 959,    0],\n",
       "       [ 960,    0],\n",
       "       [ 961,    1],\n",
       "       [ 962,    1],\n",
       "       [ 963,    0],\n",
       "       [ 964,    0],\n",
       "       [ 965,    0],\n",
       "       [ 966,    1],\n",
       "       [ 967,    0],\n",
       "       [ 968,    0],\n",
       "       [ 969,    1],\n",
       "       [ 970,    0],\n",
       "       [ 971,    1],\n",
       "       [ 972,    1],\n",
       "       [ 973,    1],\n",
       "       [ 974,    0],\n",
       "       [ 975,    0],\n",
       "       [ 976,    0],\n",
       "       [ 977,    0],\n",
       "       [ 978,    1],\n",
       "       [ 979,    0],\n",
       "       [ 980,    1],\n",
       "       [ 981,    1],\n",
       "       [ 982,    0],\n",
       "       [ 983,    0],\n",
       "       [ 984,    1],\n",
       "       [ 985,    0],\n",
       "       [ 986,    0],\n",
       "       [ 987,    0],\n",
       "       [ 988,    1],\n",
       "       [ 989,    0],\n",
       "       [ 990,    0],\n",
       "       [ 991,    0],\n",
       "       [ 992,    1],\n",
       "       [ 993,    0],\n",
       "       [ 994,    0],\n",
       "       [ 995,    0],\n",
       "       [ 996,    1],\n",
       "       [ 997,    0],\n",
       "       [ 998,    0],\n",
       "       [ 999,    0],\n",
       "       [1000,    0],\n",
       "       [1001,    0],\n",
       "       [1002,    0],\n",
       "       [1003,    1],\n",
       "       [1004,    1],\n",
       "       [1005,    1],\n",
       "       [1006,    1],\n",
       "       [1007,    0],\n",
       "       [1008,    0],\n",
       "       [1009,    1],\n",
       "       [1010,    0],\n",
       "       [1011,    1],\n",
       "       [1012,    1],\n",
       "       [1013,    0],\n",
       "       [1014,    1],\n",
       "       [1015,    0],\n",
       "       [1016,    0],\n",
       "       [1017,    1],\n",
       "       [1018,    0],\n",
       "       [1019,    1],\n",
       "       [1020,    0],\n",
       "       [1021,    0],\n",
       "       [1022,    0],\n",
       "       [1023,    0],\n",
       "       [1024,    0],\n",
       "       [1025,    0],\n",
       "       [1026,    0],\n",
       "       [1027,    0],\n",
       "       [1028,    0],\n",
       "       [1029,    0],\n",
       "       [1030,    0],\n",
       "       [1031,    0],\n",
       "       [1032,    0],\n",
       "       [1033,    1],\n",
       "       [1034,    0],\n",
       "       [1035,    0],\n",
       "       [1036,    0],\n",
       "       [1037,    0],\n",
       "       [1038,    0],\n",
       "       [1039,    0],\n",
       "       [1040,    0],\n",
       "       [1041,    0],\n",
       "       [1042,    1],\n",
       "       [1043,    0],\n",
       "       [1044,    0],\n",
       "       [1045,    0],\n",
       "       [1046,    0],\n",
       "       [1047,    0],\n",
       "       [1048,    1],\n",
       "       [1049,    0],\n",
       "       [1050,    0],\n",
       "       [1051,    1],\n",
       "       [1052,    1],\n",
       "       [1053,    1],\n",
       "       [1054,    1],\n",
       "       [1055,    0],\n",
       "       [1056,    0],\n",
       "       [1057,    0],\n",
       "       [1058,    0],\n",
       "       [1059,    0],\n",
       "       [1060,    1],\n",
       "       [1061,    0],\n",
       "       [1062,    0],\n",
       "       [1063,    0],\n",
       "       [1064,    0],\n",
       "       [1065,    0],\n",
       "       [1066,    0],\n",
       "       [1067,    1],\n",
       "       [1068,    1],\n",
       "       [1069,    0],\n",
       "       [1070,    1],\n",
       "       [1071,    1],\n",
       "       [1072,    0],\n",
       "       [1073,    0],\n",
       "       [1074,    1],\n",
       "       [1075,    0],\n",
       "       [1076,    1],\n",
       "       [1077,    0],\n",
       "       [1078,    1],\n",
       "       [1079,    0],\n",
       "       [1080,    0],\n",
       "       [1081,    0],\n",
       "       [1082,    0],\n",
       "       [1083,    0],\n",
       "       [1084,    1],\n",
       "       [1085,    0],\n",
       "       [1086,    1],\n",
       "       [1087,    0],\n",
       "       [1088,    1],\n",
       "       [1089,    0],\n",
       "       [1090,    0],\n",
       "       [1091,    0],\n",
       "       [1092,    1],\n",
       "       [1093,    1],\n",
       "       [1094,    1],\n",
       "       [1095,    1],\n",
       "       [1096,    0],\n",
       "       [1097,    0],\n",
       "       [1098,    1],\n",
       "       [1099,    0],\n",
       "       [1100,    1],\n",
       "       [1101,    0],\n",
       "       [1102,    0],\n",
       "       [1103,    0],\n",
       "       [1104,    0],\n",
       "       [1105,    1],\n",
       "       [1106,    0],\n",
       "       [1107,    0],\n",
       "       [1108,    1],\n",
       "       [1109,    0],\n",
       "       [1110,    1],\n",
       "       [1111,    0],\n",
       "       [1112,    1],\n",
       "       [1113,    0],\n",
       "       [1114,    1],\n",
       "       [1115,    0],\n",
       "       [1116,    1],\n",
       "       [1117,    1],\n",
       "       [1118,    0],\n",
       "       [1119,    1],\n",
       "       [1120,    0],\n",
       "       [1121,    0],\n",
       "       [1122,    0],\n",
       "       [1123,    1],\n",
       "       [1124,    0],\n",
       "       [1125,    0],\n",
       "       [1126,    0],\n",
       "       [1127,    0],\n",
       "       [1128,    1],\n",
       "       [1129,    0],\n",
       "       [1130,    1],\n",
       "       [1131,    1],\n",
       "       [1132,    1],\n",
       "       [1133,    1],\n",
       "       [1134,    0],\n",
       "       [1135,    0],\n",
       "       [1136,    0],\n",
       "       [1137,    0],\n",
       "       [1138,    1],\n",
       "       [1139,    0],\n",
       "       [1140,    1],\n",
       "       [1141,    0],\n",
       "       [1142,    1],\n",
       "       [1143,    0],\n",
       "       [1144,    0],\n",
       "       [1145,    0],\n",
       "       [1146,    0],\n",
       "       [1147,    0],\n",
       "       [1148,    0],\n",
       "       [1149,    0],\n",
       "       [1150,    1],\n",
       "       [1151,    0],\n",
       "       [1152,    0],\n",
       "       [1153,    0],\n",
       "       [1154,    1],\n",
       "       [1155,    1],\n",
       "       [1156,    0],\n",
       "       [1157,    0],\n",
       "       [1158,    0],\n",
       "       [1159,    0],\n",
       "       [1160,    0],\n",
       "       [1161,    0],\n",
       "       [1162,    0],\n",
       "       [1163,    0],\n",
       "       [1164,    1],\n",
       "       [1165,    1],\n",
       "       [1166,    0],\n",
       "       [1167,    1],\n",
       "       [1168,    0],\n",
       "       [1169,    0],\n",
       "       [1170,    0],\n",
       "       [1171,    0],\n",
       "       [1172,    0],\n",
       "       [1173,    1],\n",
       "       [1174,    1],\n",
       "       [1175,    1],\n",
       "       [1176,    1],\n",
       "       [1177,    0],\n",
       "       [1178,    0],\n",
       "       [1179,    0],\n",
       "       [1180,    0],\n",
       "       [1181,    0],\n",
       "       [1182,    0],\n",
       "       [1183,    1],\n",
       "       [1184,    0],\n",
       "       [1185,    0],\n",
       "       [1186,    0],\n",
       "       [1187,    0],\n",
       "       [1188,    1],\n",
       "       [1189,    0],\n",
       "       [1190,    0],\n",
       "       [1191,    0],\n",
       "       [1192,    0],\n",
       "       [1193,    0],\n",
       "       [1194,    0],\n",
       "       [1195,    0],\n",
       "       [1196,    1],\n",
       "       [1197,    1],\n",
       "       [1198,    0],\n",
       "       [1199,    1],\n",
       "       [1200,    0],\n",
       "       [1201,    1],\n",
       "       [1202,    0],\n",
       "       [1203,    0],\n",
       "       [1204,    0],\n",
       "       [1205,    1],\n",
       "       [1206,    1],\n",
       "       [1207,    1],\n",
       "       [1208,    1],\n",
       "       [1209,    0],\n",
       "       [1210,    0],\n",
       "       [1211,    0],\n",
       "       [1212,    0],\n",
       "       [1213,    0],\n",
       "       [1214,    0],\n",
       "       [1215,    0],\n",
       "       [1216,    1],\n",
       "       [1217,    0],\n",
       "       [1218,    1],\n",
       "       [1219,    0],\n",
       "       [1220,    0],\n",
       "       [1221,    0],\n",
       "       [1222,    1],\n",
       "       [1223,    0],\n",
       "       [1224,    0],\n",
       "       [1225,    1],\n",
       "       [1226,    0],\n",
       "       [1227,    0],\n",
       "       [1228,    0],\n",
       "       [1229,    0],\n",
       "       [1230,    0],\n",
       "       [1231,    0],\n",
       "       [1232,    0],\n",
       "       [1233,    0],\n",
       "       [1234,    0],\n",
       "       [1235,    1],\n",
       "       [1236,    0],\n",
       "       [1237,    1],\n",
       "       [1238,    0],\n",
       "       [1239,    0],\n",
       "       [1240,    0],\n",
       "       [1241,    1],\n",
       "       [1242,    1],\n",
       "       [1243,    0],\n",
       "       [1244,    0],\n",
       "       [1245,    0],\n",
       "       [1246,    1],\n",
       "       [1247,    0],\n",
       "       [1248,    1],\n",
       "       [1249,    0],\n",
       "       [1250,    0],\n",
       "       [1251,    0],\n",
       "       [1252,    0],\n",
       "       [1253,    1],\n",
       "       [1254,    1],\n",
       "       [1255,    0],\n",
       "       [1256,    1],\n",
       "       [1257,    0],\n",
       "       [1258,    0],\n",
       "       [1259,    1],\n",
       "       [1260,    1],\n",
       "       [1261,    0],\n",
       "       [1262,    0],\n",
       "       [1263,    1],\n",
       "       [1264,    0],\n",
       "       [1265,    0],\n",
       "       [1266,    1],\n",
       "       [1267,    1],\n",
       "       [1268,    0],\n",
       "       [1269,    0],\n",
       "       [1270,    0],\n",
       "       [1271,    0],\n",
       "       [1272,    0],\n",
       "       [1273,    0],\n",
       "       [1274,    0],\n",
       "       [1275,    0],\n",
       "       [1276,    0],\n",
       "       [1277,    1],\n",
       "       [1278,    0],\n",
       "       [1279,    0],\n",
       "       [1280,    0],\n",
       "       [1281,    0],\n",
       "       [1282,    0],\n",
       "       [1283,    1],\n",
       "       [1284,    1],\n",
       "       [1285,    0],\n",
       "       [1286,    0],\n",
       "       [1287,    1],\n",
       "       [1288,    0],\n",
       "       [1289,    1],\n",
       "       [1290,    0],\n",
       "       [1291,    0],\n",
       "       [1292,    1],\n",
       "       [1293,    0],\n",
       "       [1294,    1],\n",
       "       [1295,    0],\n",
       "       [1296,    0],\n",
       "       [1297,    0],\n",
       "       [1298,    0],\n",
       "       [1299,    1],\n",
       "       [1300,    1],\n",
       "       [1301,    1],\n",
       "       [1302,    1],\n",
       "       [1303,    1],\n",
       "       [1304,    0],\n",
       "       [1305,    0],\n",
       "       [1306,    1],\n",
       "       [1307,    0],\n",
       "       [1308,    0],\n",
       "       [1309,    0]], dtype=int64)"
      ]
     },
     "execution_count": 53,
     "metadata": {},
     "output_type": "execute_result"
    }
   ],
   "source": [
    "# Final result for the test set\n",
    "final_array = np.concatenate((passangerid, y_pred),axis=1)\n",
    "final_array\n",
    "\n",
    "# NOTE - By submitting this result to Kaggle's Machine Learning Problem I got 0.78468 Accuracy"
   ]
  }
 ],
 "metadata": {
  "kernelspec": {
   "display_name": "Python 3",
   "language": "python",
   "name": "python3"
  },
  "language_info": {
   "codemirror_mode": {
    "name": "ipython",
    "version": 3
   },
   "file_extension": ".py",
   "mimetype": "text/x-python",
   "name": "python",
   "nbconvert_exporter": "python",
   "pygments_lexer": "ipython3",
   "version": "3.7.2"
  }
 },
 "nbformat": 4,
 "nbformat_minor": 4
}
